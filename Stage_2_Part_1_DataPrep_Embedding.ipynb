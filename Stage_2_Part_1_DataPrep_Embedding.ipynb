{
  "cells": [
    {
      "cell_type": "markdown",
      "metadata": {
        "colab_type": "text",
        "id": "view-in-github"
      },
      "source": [
        "<a href=\"https://colab.research.google.com/github/lucarenz1997/NLP/blob/main/Stage_2_Part_1_DataPrep_Embedding.ipynb\" target=\"_parent\"><img src=\"https://colab.research.google.com/assets/colab-badge.svg\" alt=\"Open In Colab\"/></a>"
      ]
    },
    {
      "cell_type": "markdown",
      "metadata": {
        "id": "w7jBWu-_HWy8"
      },
      "source": [
        "# Stage 2: Advanced Embedding Models Training and Analysis\n",
        "## Part 1: Model Training Steps"
      ]
    },
    {
      "cell_type": "markdown",
      "metadata": {
        "id": "Z8tT__hUHWy-"
      },
      "source": [
        "**Objective**: Developing and utilizing advanced embedding models to represent the content of Cleantech Media and Google Patent datasets and compare domain-specific embeddings to gain unique insights.\n",
        "\n",
        "**Output**: Notebook with annotated model training steps"
      ]
    },
    {
      "cell_type": "markdown",
      "metadata": {
        "id": "IZ-NKXUhHWy-"
      },
      "source": [
        "## Data Preparation for Embeddings\n",
        "Lead: Alvaro Cervan"
      ]
    },
    {
      "cell_type": "markdown",
      "metadata": {
        "id": "Id5RMwoiHWy-"
      },
      "source": [
        "### Preprocessing Steps\n",
        "\n",
        "The preprocessing steps have already been completed in the previous stage, which include:\n",
        "- Dropping duplicates\n",
        "- Setting data types\n",
        "- Dropping unnecessary columns\n",
        "- Tokenizing text data\n",
        "- Stopword Removal\n",
        "- Language detection\n",
        "- Translating non-English text to English\n",
        "- Lemmatization\n",
        "\n",
        "These steps were applied to both datasets, `media` and `patents`, and the resulting data was saved in the `data` folder. We will now load the data and perform the following steps:"
      ]
    },
    {
      "cell_type": "code",
      "execution_count": null,
      "metadata": {
        "id": "vZ1qNiEeHWy-"
      },
      "outputs": [],
      "source": [
        "# module imports\n",
        "import pandas as pd\n",
        "import numpy as np\n",
        "from sklearn.model_selection import train_test_split\n",
        "from sklearn.utils import shuffle\n"
      ]
    },
    {
      "cell_type": "code",
      "execution_count": null,
      "metadata": {
        "id": "ZGRIypJ_HWy_",
        "outputId": "a985a751-5284-4d8a-f38a-81255e3a6f2f"
      },
      "outputs": [
        {
          "name": "stdout",
          "output_type": "stream",
          "text": [
            "Media Backup:\n"
          ]
        },
        {
          "data": {
            "text/html": [
              "<div>\n",
              "<style scoped>\n",
              "    .dataframe tbody tr th:only-of-type {\n",
              "        vertical-align: middle;\n",
              "    }\n",
              "\n",
              "    .dataframe tbody tr th {\n",
              "        vertical-align: top;\n",
              "    }\n",
              "\n",
              "    .dataframe thead th {\n",
              "        text-align: right;\n",
              "    }\n",
              "</style>\n",
              "<table border=\"1\" class=\"dataframe\">\n",
              "  <thead>\n",
              "    <tr style=\"text-align: right;\">\n",
              "      <th></th>\n",
              "      <th>Unnamed: 0</th>\n",
              "      <th>title</th>\n",
              "      <th>date</th>\n",
              "      <th>content</th>\n",
              "      <th>domain</th>\n",
              "      <th>url</th>\n",
              "      <th>processed_text</th>\n",
              "    </tr>\n",
              "  </thead>\n",
              "  <tbody>\n",
              "    <tr>\n",
              "      <th>0</th>\n",
              "      <td>93320</td>\n",
              "      <td>XPeng Delivered ~100,000 Vehicles In 2021</td>\n",
              "      <td>2022-01-02</td>\n",
              "      <td>['Chinese automotive startup XPeng has shown o...</td>\n",
              "      <td>cleantechnica</td>\n",
              "      <td>https://cleantechnica.com/2022/01/02/xpeng-del...</td>\n",
              "      <td>chinese automotive startup XPeng show one dram...</td>\n",
              "    </tr>\n",
              "    <tr>\n",
              "      <th>1</th>\n",
              "      <td>93321</td>\n",
              "      <td>Green Hydrogen: Drop In Bucket Or Big Splash?</td>\n",
              "      <td>2022-01-02</td>\n",
              "      <td>['Sinopec has laid plans to build the largest ...</td>\n",
              "      <td>cleantechnica</td>\n",
              "      <td>https://cleantechnica.com/2022/01/02/its-a-gre...</td>\n",
              "      <td>Sinopec lay plan build large green hydrogen pr...</td>\n",
              "    </tr>\n",
              "    <tr>\n",
              "      <th>2</th>\n",
              "      <td>98159</td>\n",
              "      <td>World’ s largest floating PV plant goes online...</td>\n",
              "      <td>2022-01-03</td>\n",
              "      <td>['Huaneng Power International has switched on ...</td>\n",
              "      <td>pv-magazine</td>\n",
              "      <td>https://www.pv-magazine.com/2022/01/03/worlds-...</td>\n",
              "      <td>Huaneng Power International switch mw float pv...</td>\n",
              "    </tr>\n",
              "    <tr>\n",
              "      <th>3</th>\n",
              "      <td>98158</td>\n",
              "      <td>Iran wants to deploy 10 GW of renewables over ...</td>\n",
              "      <td>2022-01-03</td>\n",
              "      <td>['According to the Iranian authorities, there ...</td>\n",
              "      <td>pv-magazine</td>\n",
              "      <td>https://www.pv-magazine.com/2022/01/03/iran-wa...</td>\n",
              "      <td>accord iranian authority currently renewable e...</td>\n",
              "    </tr>\n",
              "    <tr>\n",
              "      <th>4</th>\n",
              "      <td>31128</td>\n",
              "      <td>Eastern Interconnection Power Grid Said ‘ Bein...</td>\n",
              "      <td>2022-01-03</td>\n",
              "      <td>['Sign in to get the best natural gas news and...</td>\n",
              "      <td>naturalgasintel</td>\n",
              "      <td>https://www.naturalgasintel.com/eastern-interc...</td>\n",
              "      <td>sign get good natural gas news datum follow to...</td>\n",
              "    </tr>\n",
              "  </tbody>\n",
              "</table>\n",
              "</div>"
            ],
            "text/plain": [
              "   Unnamed: 0                                              title        date  \\\n",
              "0       93320          XPeng Delivered ~100,000 Vehicles In 2021  2022-01-02   \n",
              "1       93321      Green Hydrogen: Drop In Bucket Or Big Splash?  2022-01-02   \n",
              "2       98159  World’ s largest floating PV plant goes online...  2022-01-03   \n",
              "3       98158  Iran wants to deploy 10 GW of renewables over ...  2022-01-03   \n",
              "4       31128  Eastern Interconnection Power Grid Said ‘ Bein...  2022-01-03   \n",
              "\n",
              "                                             content           domain  \\\n",
              "0  ['Chinese automotive startup XPeng has shown o...    cleantechnica   \n",
              "1  ['Sinopec has laid plans to build the largest ...    cleantechnica   \n",
              "2  ['Huaneng Power International has switched on ...      pv-magazine   \n",
              "3  ['According to the Iranian authorities, there ...      pv-magazine   \n",
              "4  ['Sign in to get the best natural gas news and...  naturalgasintel   \n",
              "\n",
              "                                                 url  \\\n",
              "0  https://cleantechnica.com/2022/01/02/xpeng-del...   \n",
              "1  https://cleantechnica.com/2022/01/02/its-a-gre...   \n",
              "2  https://www.pv-magazine.com/2022/01/03/worlds-...   \n",
              "3  https://www.pv-magazine.com/2022/01/03/iran-wa...   \n",
              "4  https://www.naturalgasintel.com/eastern-interc...   \n",
              "\n",
              "                                      processed_text  \n",
              "0  chinese automotive startup XPeng show one dram...  \n",
              "1  Sinopec lay plan build large green hydrogen pr...  \n",
              "2  Huaneng Power International switch mw float pv...  \n",
              "3  accord iranian authority currently renewable e...  \n",
              "4  sign get good natural gas news datum follow to...  "
            ]
          },
          "execution_count": 4,
          "metadata": {},
          "output_type": "execute_result"
        }
      ],
      "source": [
        "from google.colab import drive\n",
        "drive.mount('/content/drive')\n",
        "\n",
        "processed_media_data_backup = pd.read_csv(\"/content/drive/MyDrive/CLT/data/processed_media_data_backup.csv\")\n",
        "processed_patent_data_backup = pd.read_csv(\"/content/drive/MyDrive/CLT/data/processed_patent_data_backup.csv\")\n",
        "\n",
        "'''processed_media_data_backup = pd.read_csv(\"data/processed_media_data_backup.csv\")\n",
        "processed_patent_data_backup = pd.read_csv(\"data/processed_patent_data_backup.csv\")'''\n",
        "\n",
        "print(\"Media Backup:\")\n",
        "processed_media_data_backup.head(5)"
      ]
    },
    {
      "cell_type": "markdown",
      "metadata": {
        "id": "3rCpLoRLHWy_"
      },
      "source": [
        "### Create training and validation sets for both media and patent texts."
      ]
    },
    {
      "cell_type": "code",
      "execution_count": null,
      "metadata": {
        "id": "S1jxK3eIHWy_",
        "outputId": "48d8d455-68b4-435a-8fcc-439974486747"
      },
      "outputs": [
        {
          "name": "stdout",
          "output_type": "stream",
          "text": [
            "Media Train:\n"
          ]
        },
        {
          "data": {
            "text/html": [
              "<div>\n",
              "<style scoped>\n",
              "    .dataframe tbody tr th:only-of-type {\n",
              "        vertical-align: middle;\n",
              "    }\n",
              "\n",
              "    .dataframe tbody tr th {\n",
              "        vertical-align: top;\n",
              "    }\n",
              "\n",
              "    .dataframe thead th {\n",
              "        text-align: right;\n",
              "    }\n",
              "</style>\n",
              "<table border=\"1\" class=\"dataframe\">\n",
              "  <thead>\n",
              "    <tr style=\"text-align: right;\">\n",
              "      <th></th>\n",
              "      <th>Unnamed: 0</th>\n",
              "      <th>title</th>\n",
              "      <th>date</th>\n",
              "      <th>content</th>\n",
              "      <th>domain</th>\n",
              "      <th>url</th>\n",
              "      <th>processed_text</th>\n",
              "    </tr>\n",
              "  </thead>\n",
              "  <tbody>\n",
              "    <tr>\n",
              "      <th>12565</th>\n",
              "      <td>63589</td>\n",
              "      <td>Second Westbridge Alberta Project Wins Approval</td>\n",
              "      <td>2023-06-07</td>\n",
              "      <td>['The Alberta Utilities Commission ( AUC) rece...</td>\n",
              "      <td>solarindustrymag</td>\n",
              "      <td>https://solarindustrymag.com/second-westbridge...</td>\n",
              "      <td>the Alberta Utilities Commission AUC recently ...</td>\n",
              "    </tr>\n",
              "    <tr>\n",
              "      <th>1085</th>\n",
              "      <td>93711</td>\n",
              "      <td>Study: Bitcoin Could Achieve Zero Emissions by...</td>\n",
              "      <td>2022-09-07</td>\n",
              "      <td>['Despite all the promise of a decentralized c...</td>\n",
              "      <td>cleantechnica</td>\n",
              "      <td>https://cleantechnica.com/2022/09/07/study-bit...</td>\n",
              "      <td>despite promise decentralized currency free go...</td>\n",
              "    </tr>\n",
              "    <tr>\n",
              "      <th>19776</th>\n",
              "      <td>103900</td>\n",
              "      <td>Solar and PHES projects deemed ‘ critical’ in ...</td>\n",
              "      <td>2024-07-04</td>\n",
              "      <td>['The New South Wales ( NSW) government has de...</td>\n",
              "      <td>pv-tech</td>\n",
              "      <td>https://www.pv-tech.org/solar-and-pumped-hydro...</td>\n",
              "      <td>the New South Wales NSW government declare six...</td>\n",
              "    </tr>\n",
              "    <tr>\n",
              "      <th>9016</th>\n",
              "      <td>21606</td>\n",
              "      <td>10 Entrepreneurs Share CHF1.75 million to Tack...</td>\n",
              "      <td>2023-01-19</td>\n",
              "      <td>[\"By clicking `` Allow All '' you agree to the...</td>\n",
              "      <td>azocleantech</td>\n",
              "      <td>https://www.azocleantech.com/news.aspx?newsID=...</td>\n",
              "      <td>by click allow all agree storing cookie device...</td>\n",
              "    </tr>\n",
              "    <tr>\n",
              "      <th>10443</th>\n",
              "      <td>103449</td>\n",
              "      <td>Trinasolar rooftop project in Vietnam connecte...</td>\n",
              "      <td>2024-01-15</td>\n",
              "      <td>['Trinasolar has announced the grid connection...</td>\n",
              "      <td>pv-tech</td>\n",
              "      <td>https://www.pv-tech.org/industry-updates/trina...</td>\n",
              "      <td>trinasolar announce grid connection MW rooftop...</td>\n",
              "    </tr>\n",
              "  </tbody>\n",
              "</table>\n",
              "</div>"
            ],
            "text/plain": [
              "       Unnamed: 0                                              title  \\\n",
              "12565       63589    Second Westbridge Alberta Project Wins Approval   \n",
              "1085        93711  Study: Bitcoin Could Achieve Zero Emissions by...   \n",
              "19776      103900  Solar and PHES projects deemed ‘ critical’ in ...   \n",
              "9016        21606  10 Entrepreneurs Share CHF1.75 million to Tack...   \n",
              "10443      103449  Trinasolar rooftop project in Vietnam connecte...   \n",
              "\n",
              "             date                                            content  \\\n",
              "12565  2023-06-07  ['The Alberta Utilities Commission ( AUC) rece...   \n",
              "1085   2022-09-07  ['Despite all the promise of a decentralized c...   \n",
              "19776  2024-07-04  ['The New South Wales ( NSW) government has de...   \n",
              "9016   2023-01-19  [\"By clicking `` Allow All '' you agree to the...   \n",
              "10443  2024-01-15  ['Trinasolar has announced the grid connection...   \n",
              "\n",
              "                 domain                                                url  \\\n",
              "12565  solarindustrymag  https://solarindustrymag.com/second-westbridge...   \n",
              "1085      cleantechnica  https://cleantechnica.com/2022/09/07/study-bit...   \n",
              "19776           pv-tech  https://www.pv-tech.org/solar-and-pumped-hydro...   \n",
              "9016       azocleantech  https://www.azocleantech.com/news.aspx?newsID=...   \n",
              "10443           pv-tech  https://www.pv-tech.org/industry-updates/trina...   \n",
              "\n",
              "                                          processed_text  \n",
              "12565  the Alberta Utilities Commission AUC recently ...  \n",
              "1085   despite promise decentralized currency free go...  \n",
              "19776  the New South Wales NSW government declare six...  \n",
              "9016   by click allow all agree storing cookie device...  \n",
              "10443  trinasolar announce grid connection MW rooftop...  "
            ]
          },
          "execution_count": 13,
          "metadata": {},
          "output_type": "execute_result"
        }
      ],
      "source": [
        "# Function to preprocess data\n",
        "def preprocess_data(data, seed=42):\n",
        "\tdata = shuffle(data, random_state=seed).reset_index(drop=True)  # Shuffle and reset index with seed\n",
        "\tdata = data.dropna().drop_duplicates(subset=['processed_text'])  # Drop NaN and duplicates\n",
        "\treturn data.reset_index(drop=True)\n",
        "\n",
        "# Preprocess media and patent data\n",
        "media_data = preprocess_data(processed_media_data_backup.copy(), seed=42)\n",
        "patent_data = preprocess_data(processed_patent_data_backup.copy(), seed=42)\n",
        "\n",
        "# Split the data into training and validation sets with seed\n",
        "media_train, media_val = train_test_split(media_data, test_size=0.2, random_state=42)\n",
        "patent_train, patent_val = train_test_split(patent_data, test_size=0.2, random_state=42)\n",
        "\n",
        "# Display sample data\n",
        "print(\"Media Train:\")\n",
        "media_train.head(5) #notice how the index is reset after shuffling"
      ]
    },
    {
      "cell_type": "markdown",
      "metadata": {
        "id": "xjO7Gd4PHWy_"
      },
      "source": [
        "## Word Embeddings Training"
      ]
    },
    {
      "cell_type": "markdown",
      "metadata": {
        "id": "6Gruqq2WHWzA"
      },
      "source": [
        "This table showcases the characteristics of each of the models **Word2Vec**, **FastText**, and **GloVe** to help us understand the differences between them and choose the best model for our use case.\n",
        "\n",
        "| **Feature**           | **Word2Vec**                        | **FastText**                              | **GloVe**                               |\n",
        "|------------------------|-------------------------------------|-------------------------------------------|-----------------------------------------|\n",
        "| **Speed**             | Fast                                | Moderate (slower due to subword modeling) | Slow (requires building a co-occurrence matrix) |\n",
        "| **Performance**       | Good (captures semantic relationships) | Best (handles OOV words and morphology)   | Good (captures global relationships)    |\n",
        "| **Handles OOV Words** | No                                  | Yes (via subword embeddings)              | No                                      |\n",
        "| **Captures Morphology**| No                                 | Yes                                       | No                                      |\n",
        "| **Focus**             | Local Context (Skip-gram or CBOW)   | Local Context + Subwords                  | Global Co-occurrence                    |\n",
        "| **GPU Compatibility** | Yes (via libraries like Gensim)     | Yes (custom implementations)              | Limited (custom implementations)        |\n",
        "| **Best Use Case**     | General-purpose, fast training      | Rare words, morphologically rich languages | Global word relationships and context   |\n",
        "\n",
        "For computing resources and time constraints, GloVe will not be used due to lack of GPU acceleration. We will focus on training **Word2Vec** for its speed, general-purpose use, and ability to capture semantic relationships.\n",
        "\n",
        "# TODO - Try **FastText** ???\n",
        "## We will also train **FastText** for its ability to handle OOV words and morphology. "
      ]
    }
  ],
  "metadata": {
    "colab": {
      "include_colab_link": true,
      "provenance": []
    },
    "kernelspec": {
      "display_name": ".venv",
      "language": "python",
      "name": "python3"
    },
    "language_info": {
      "codemirror_mode": {
        "name": "ipython",
        "version": 3
      },
      "file_extension": ".py",
      "mimetype": "text/x-python",
      "name": "python",
      "nbconvert_exporter": "python",
      "pygments_lexer": "ipython3",
      "version": "3.11.5"
    }
  },
  "nbformat": 4,
  "nbformat_minor": 0
}
