{
  "nbformat": 4,
  "nbformat_minor": 0,
  "metadata": {
    "colab": {
      "provenance": [],
      "authorship_tag": "ABX9TyNhzebbYTIbUpGiL1EB3tpE",
      "include_colab_link": true
    },
    "kernelspec": {
      "name": "python3",
      "display_name": "Python 3"
    },
    "language_info": {
      "name": "python"
    }
  },
  "cells": [
    {
      "cell_type": "markdown",
      "metadata": {
        "id": "view-in-github",
        "colab_type": "text"
      },
      "source": [
        "<a href=\"https://colab.research.google.com/github/lucarenz1997/NLP/blob/main/Stage_1_EDA_and_Topic_Modeling.ipynb\" target=\"_parent\"><img src=\"https://colab.research.google.com/assets/colab-badge.svg\" alt=\"Open In Colab\"/></a>"
      ]
    },
    {
      "cell_type": "markdown",
      "source": [
        "## Exploratory Data Analysis\n",
        "- Perform separate and comparative exploratory data analysis (EDA) on both datasets, such as\n",
        "temporal analysis and sentiment analysis, to understand the landscape of cleantech innovations\n",
        "and patents.\n",
        "- Use pre-trained Named Entity Recognition (NER) models (like spaCy, Hugging Face\n",
        "Transformers) to extract companies and technologies, then build a co-occurrence matrix\n",
        "representing the frequency with which a company is mentioned together with a particular\n",
        "technology in the text. Construct a graph where nodes represent entities, and edges reflect\n",
        "relationships, and analyze it using centrality and clustering for insights.\n",
        "- Use visualization techniques such as word clouds, bar charts, scatter plots and NetworkX (with\n",
        "Matplotlib) to illustrate the results.\n"
      ],
      "metadata": {
        "id": "ssY3-L6l5TMJ"
      }
    },
    {
      "cell_type": "markdown",
      "source": [
        "## Topic Modeling\n",
        "- Test topic modeling techniques such as LDA and NMF (https://github.com/AnushaMeka/NLPTopic-Modeling-LDA-NMF), Top2Vec (https://github.com/ddangelov/Top2Vec), and BERTopic\n",
        "(https://github.com/MaartenGr/BERTopic), evaluate the quality of the topics using such as\n",
        "coherence metrics, and refine the topic model based on evaluation results and domain\n",
        "expertise.\n",
        "- Apply hierarchical topic modeling to explore more granular subtopics\n",
        "(https://maartengr.github.io/BERTopic/getting_started/hierarchicaltopics/hierarchicaltopics.htm\n",
        "l) within major cleantech technologies (e.g., solar energy subtopics).\n",
        "- Visualize and interpret the topics, comparing emerging trends in media publications against focuses of recent patents\n"
      ],
      "metadata": {
        "id": "vK5QDjwS5AAh"
      }
    }
  ]
}